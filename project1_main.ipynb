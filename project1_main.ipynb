{
 "cells": [
  {
   "cell_type": "markdown",
   "metadata": {},
   "source": [
    "# Code of \"What gives your Airbnb a high rating?\" project\n",
    "Three business questions:  \n",
    "1.Does the description of the listing affect the rating score?  \n",
    "2.Does the description of the neighborhood affect the rating score?  \n",
    "3.What are the objective factors affect the rating most?"
   ]
  },
  {
   "cell_type": "code",
   "execution_count": 142,
   "metadata": {},
   "outputs": [],
   "source": [
    "import numpy as np\n",
    "import pandas as pd\n",
    "import matplotlib.pyplot as plt\n",
    "import statsmodels.api as sm\n",
    "from sklearn.linear_model import LinearRegression\n",
    "from sklearn.model_selection import train_test_split\n",
    "from sklearn.metrics import r2_score, mean_squared_error\n",
    "from collections import defaultdict\n",
    "%matplotlib inline\n",
    "\n",
    "# import dataset\n",
    "df_listings = pd.read_csv('./listings.csv')"
   ]
  },
  {
   "cell_type": "code",
   "execution_count": null,
   "metadata": {},
   "outputs": [],
   "source": [
    "# run this cell to take a look at the first 5 rows of the data\n",
    "df_listings.head()"
   ]
  },
  {
   "cell_type": "markdown",
   "metadata": {},
   "source": [
    "The whole project cares about what affects the **rating scores** of a Airbnb listing, so the first step is deleting the listings with missing values in **'review_scores_rating'**."
   ]
  },
  {
   "cell_type": "code",
   "execution_count": 2,
   "metadata": {},
   "outputs": [],
   "source": [
    "df_new = df_listings.dropna(subset = ['review_scores_rating'], axis = 0)"
   ]
  },
  {
   "cell_type": "code",
   "execution_count": 3,
   "metadata": {},
   "outputs": [
    {
     "data": {
      "image/png": "[encoded data removed]",
      "text/plain": [
       "<Figure size 432x288 with 1 Axes>"
      ]
     },
     "metadata": {
      "needs_background": "light"
     },
     "output_type": "display_data"
    }
   ],
   "source": [
    "# run this cell to take a look at the ditribution of the rating scores of all the Airbnb listings in Seattle.\n",
    "df_new.review_scores_rating.plot(kind = 'hist');\n",
    "plt.title('Rating scores distribution');"
   ]
  },
  {
   "cell_type": "markdown",
   "metadata": {},
   "source": [
    "### Comparing high rating score listings vs low rating score listings\n",
    "I will first compare whether the Airbnb listings have higher rating scores are different from those with lower scores in some subjective factors -- such as how they describe the listing and the neighborhood (Question 1 & 2).   \n",
    "\n",
    "To have two groups to compare, I extract those listings with higher scores (> 75% percentile) and lower scores(< 25% percentile)."
   ]
  },
  {
   "cell_type": "markdown",
   "metadata": {},
   "source": [
    "## Solving Question 1\n",
    "To simplify the question, I will only focus on the **adjectives** used in the descriptions.  \n",
    "\n",
    "By looking through the descriptions in column **'description'** (a desciption of the Airbnb listing), I got some possible adjectives listing in the following variable **possible_adj**."
   ]
  },
  {
   "cell_type": "code",
   "execution_count": 4,
   "metadata": {},
   "outputs": [
    {
     "data": {
      "text/plain": [
       "0"
      ]
     },
     "execution_count": 4,
     "metadata": {},
     "output_type": "execute_result"
    }
   ],
   "source": [
    "# We don't have NaN value in the 'description' variable\n",
    "df_new.description.isnull().sum()"
   ]
  },
  {
   "cell_type": "code",
   "execution_count": 7,
   "metadata": {},
   "outputs": [],
   "source": [
    "# separate data directly\n",
    "y = df_new.review_scores_rating\n",
    "df_high_score = df_new[y > np.percentile(y,75)]\n",
    "df_low_score  = df_new[y < np.percentile(y,25)]"
   ]
  },
  {
   "cell_type": "code",
   "execution_count": 8,
   "metadata": {},
   "outputs": [],
   "source": [
    "possible_adj = ['charming', 'private', 'elegant', 'cozy', 'comfortable', \n",
    "                'clean', 'wonderful', 'beautiful', 'modern', 'great',\n",
    "                'functional', 'fresh', 'close', 'historic', 'quiet',\n",
    "                'gorgeous', 'safe', 'convenient', 'lovely', 'vintage',\n",
    "                'amazing', 'walkable', 'adorable', 'bright', 'light',\n",
    "                'new', 'spacious', 'large', 'desirable', 'popular', \n",
    "                'special', 'fantastic', 'fabulous']"
   ]
  },
  {
   "cell_type": "markdown",
   "metadata": {},
   "source": [
    "Here I use (modify) a code from Udacity class to count the number of above words showing in a column of a dataframe."
   ]
  },
  {
   "cell_type": "code",
   "execution_count": 9,
   "metadata": {},
   "outputs": [],
   "source": [
    "def count_word(df, col1, col2, look_for):\n",
    "    '''\n",
    "    Modified based on code from Udacity Data Scientist Nanodegree Lession 1. \n",
    "    INPUT:\n",
    "    df - the pandas dataframe you want to search\n",
    "    col1 - the column name you want to look through\n",
    "    col2 - the column you want to count values from\n",
    "    look_for - a list of strings you want to search for in each row of df[col1]\n",
    "    \n",
    "    OUTPUT:\n",
    "    new_df - a dataframe of each look_for with the count of how often it shows up\n",
    "    '''\n",
    "    new_df = defaultdict(int)\n",
    "    #loop through list of ed types\n",
    "    for val in look_for:\n",
    "        #loop through rows\n",
    "        for idx in range(df.shape[0]):\n",
    "            #if the ed type is in the row add 1\n",
    "            if val in df[col1][idx].lower():\n",
    "                new_df[val] += int(df[col2][idx])\n",
    "    new_df = pd.DataFrame(pd.Series(new_df)).reset_index()\n",
    "    new_df.columns = [col1, col2]\n",
    "    new_df.sort_values('count', ascending=False, inplace=True)\n",
    "    return new_df"
   ]
  },
  {
   "cell_type": "markdown",
   "metadata": {},
   "source": [
    "The following function preprocess the dataframe you want to use and count the words (e.g. adjectives) of interest by calling the **count_word** function."
   ]
  },
  {
   "cell_type": "code",
   "execution_count": 10,
   "metadata": {},
   "outputs": [],
   "source": [
    "def get_count(df, col = 'description', search_for = possible_adj):\n",
    "    '''\n",
    "    Modified based on code from Udacity Data Scientist Nanodegree Lession 1.\n",
    "    '''\n",
    "    df_group = df[col].value_counts().reset_index()\n",
    "    df_group.rename(columns={'index': 'key_words', col: 'count'}, inplace=True)\n",
    "    df_key_word = count_word(df_group, 'key_words', 'count', search_for)\n",
    "    \n",
    "    df_key_word.set_index('key_words', inplace = True)\n",
    "    return df_key_word"
   ]
  },
  {
   "cell_type": "code",
   "execution_count": 38,
   "metadata": {},
   "outputs": [],
   "source": [
    "# plot out the adjective usage in high score listings and low score listings\n",
    "adj_high      = get_count(df_high_score)\n",
    "adj_low       = get_count(df_low_score)\n",
    "prop_adj_high = adj_high/adj_high.sum()\n",
    "prop_adj_low  = adj_low/adj_low.sum()"
   ]
  },
  {
   "cell_type": "code",
   "execution_count": 325,
   "metadata": {},
   "outputs": [],
   "source": [
    "prop_adj_high.rename(columns={'count':'high_count'}, inplace = True)\n",
    "prop_adj_low.rename(columns = {'count':'low_count'}, inplace = True)"
   ]
  },
  {
   "cell_type": "code",
   "execution_count": 326,
   "metadata": {},
   "outputs": [],
   "source": [
    "prop_adj = pd.concat([prop_adj_high, prop_adj_low], axis=1, join='inner')"
   ]
  },
  {
   "cell_type": "code",
   "execution_count": 328,
   "metadata": {},
   "outputs": [
    {
     "data": {
      "text/html": [
       "<div>\n",
       "<style scoped>\n",
       "    .dataframe tbody tr th:only-of-type {\n",
       "        vertical-align: middle;\n",
       "    }\n",
       "\n",
       "    .dataframe tbody tr th {\n",
       "        vertical-align: top;\n",
       "    }\n",
       "\n",
       "    .dataframe thead th {\n",
       "        text-align: right;\n",
       "    }\n",
       "</style>\n",
       "<table border=\"1\" class=\"dataframe\">\n",
       "  <thead>\n",
       "    <tr style=\"text-align: right;\">\n",
       "      <th></th>\n",
       "      <th>high_count</th>\n",
       "      <th>low_count</th>\n",
       "    </tr>\n",
       "    <tr>\n",
       "      <th>key_words</th>\n",
       "      <th></th>\n",
       "      <th></th>\n",
       "    </tr>\n",
       "  </thead>\n",
       "  <tbody>\n",
       "    <tr>\n",
       "      <th>close</th>\n",
       "      <td>0.087869</td>\n",
       "      <td>0.088479</td>\n",
       "    </tr>\n",
       "    <tr>\n",
       "      <th>private</th>\n",
       "      <td>0.079051</td>\n",
       "      <td>0.084978</td>\n",
       "    </tr>\n",
       "    <tr>\n",
       "      <th>great</th>\n",
       "      <td>0.072666</td>\n",
       "      <td>0.078931</td>\n",
       "    </tr>\n",
       "    <tr>\n",
       "      <th>large</th>\n",
       "      <td>0.072666</td>\n",
       "      <td>0.062062</td>\n",
       "    </tr>\n",
       "    <tr>\n",
       "      <th>light</th>\n",
       "      <td>0.068714</td>\n",
       "      <td>0.062381</td>\n",
       "    </tr>\n",
       "    <tr>\n",
       "      <th>quiet</th>\n",
       "      <td>0.061721</td>\n",
       "      <td>0.067473</td>\n",
       "    </tr>\n",
       "    <tr>\n",
       "      <th>new</th>\n",
       "      <td>0.059897</td>\n",
       "      <td>0.064609</td>\n",
       "    </tr>\n",
       "    <tr>\n",
       "      <th>beautiful</th>\n",
       "      <td>0.056552</td>\n",
       "      <td>0.049650</td>\n",
       "    </tr>\n",
       "    <tr>\n",
       "      <th>comfortable</th>\n",
       "      <td>0.048039</td>\n",
       "      <td>0.056970</td>\n",
       "    </tr>\n",
       "    <tr>\n",
       "      <th>modern</th>\n",
       "      <td>0.040134</td>\n",
       "      <td>0.027689</td>\n",
       "    </tr>\n",
       "    <tr>\n",
       "      <th>cozy</th>\n",
       "      <td>0.039830</td>\n",
       "      <td>0.039784</td>\n",
       "    </tr>\n",
       "    <tr>\n",
       "      <th>clean</th>\n",
       "      <td>0.035877</td>\n",
       "      <td>0.049013</td>\n",
       "    </tr>\n",
       "    <tr>\n",
       "      <th>spacious</th>\n",
       "      <td>0.035573</td>\n",
       "      <td>0.035328</td>\n",
       "    </tr>\n",
       "    <tr>\n",
       "      <th>convenient</th>\n",
       "      <td>0.026452</td>\n",
       "      <td>0.029917</td>\n",
       "    </tr>\n",
       "    <tr>\n",
       "      <th>lovely</th>\n",
       "      <td>0.021283</td>\n",
       "      <td>0.015595</td>\n",
       "    </tr>\n",
       "    <tr>\n",
       "      <th>charming</th>\n",
       "      <td>0.020675</td>\n",
       "      <td>0.016232</td>\n",
       "    </tr>\n",
       "    <tr>\n",
       "      <th>amazing</th>\n",
       "      <td>0.020371</td>\n",
       "      <td>0.027371</td>\n",
       "    </tr>\n",
       "    <tr>\n",
       "      <th>bright</th>\n",
       "      <td>0.016418</td>\n",
       "      <td>0.014640</td>\n",
       "    </tr>\n",
       "    <tr>\n",
       "      <th>safe</th>\n",
       "      <td>0.016114</td>\n",
       "      <td>0.028008</td>\n",
       "    </tr>\n",
       "    <tr>\n",
       "      <th>fresh</th>\n",
       "      <td>0.015810</td>\n",
       "      <td>0.010503</td>\n",
       "    </tr>\n",
       "    <tr>\n",
       "      <th>wonderful</th>\n",
       "      <td>0.013074</td>\n",
       "      <td>0.011776</td>\n",
       "    </tr>\n",
       "    <tr>\n",
       "      <th>gorgeous</th>\n",
       "      <td>0.011858</td>\n",
       "      <td>0.007320</td>\n",
       "    </tr>\n",
       "    <tr>\n",
       "      <th>historic</th>\n",
       "      <td>0.011858</td>\n",
       "      <td>0.014959</td>\n",
       "    </tr>\n",
       "    <tr>\n",
       "      <th>fantastic</th>\n",
       "      <td>0.011554</td>\n",
       "      <td>0.008275</td>\n",
       "    </tr>\n",
       "    <tr>\n",
       "      <th>walkable</th>\n",
       "      <td>0.009121</td>\n",
       "      <td>0.005729</td>\n",
       "    </tr>\n",
       "    <tr>\n",
       "      <th>popular</th>\n",
       "      <td>0.009121</td>\n",
       "      <td>0.005411</td>\n",
       "    </tr>\n",
       "    <tr>\n",
       "      <th>special</th>\n",
       "      <td>0.008817</td>\n",
       "      <td>0.006365</td>\n",
       "    </tr>\n",
       "    <tr>\n",
       "      <th>vintage</th>\n",
       "      <td>0.007905</td>\n",
       "      <td>0.012094</td>\n",
       "    </tr>\n",
       "    <tr>\n",
       "      <th>fabulous</th>\n",
       "      <td>0.006385</td>\n",
       "      <td>0.005411</td>\n",
       "    </tr>\n",
       "    <tr>\n",
       "      <th>desirable</th>\n",
       "      <td>0.004561</td>\n",
       "      <td>0.005092</td>\n",
       "    </tr>\n",
       "    <tr>\n",
       "      <th>elegant</th>\n",
       "      <td>0.004257</td>\n",
       "      <td>0.004137</td>\n",
       "    </tr>\n",
       "    <tr>\n",
       "      <th>adorable</th>\n",
       "      <td>0.003953</td>\n",
       "      <td>0.001591</td>\n",
       "    </tr>\n",
       "    <tr>\n",
       "      <th>functional</th>\n",
       "      <td>0.001824</td>\n",
       "      <td>0.002228</td>\n",
       "    </tr>\n",
       "  </tbody>\n",
       "</table>\n",
       "</div>"
      ],
      "text/plain": [
       "             high_count  low_count\n",
       "key_words                         \n",
       "close          0.087869   0.088479\n",
       "private        0.079051   0.084978\n",
       "great          0.072666   0.078931\n",
       "large          0.072666   0.062062\n",
       "light          0.068714   0.062381\n",
       "quiet          0.061721   0.067473\n",
       "new            0.059897   0.064609\n",
       "beautiful      0.056552   0.049650\n",
       "comfortable    0.048039   0.056970\n",
       "modern         0.040134   0.027689\n",
       "cozy           0.039830   0.039784\n",
       "clean          0.035877   0.049013\n",
       "spacious       0.035573   0.035328\n",
       "convenient     0.026452   0.029917\n",
       "lovely         0.021283   0.015595\n",
       "charming       0.020675   0.016232\n",
       "amazing        0.020371   0.027371\n",
       "bright         0.016418   0.014640\n",
       "safe           0.016114   0.028008\n",
       "fresh          0.015810   0.010503\n",
       "wonderful      0.013074   0.011776\n",
       "gorgeous       0.011858   0.007320\n",
       "historic       0.011858   0.014959\n",
       "fantastic      0.011554   0.008275\n",
       "walkable       0.009121   0.005729\n",
       "popular        0.009121   0.005411\n",
       "special        0.008817   0.006365\n",
       "vintage        0.007905   0.012094\n",
       "fabulous       0.006385   0.005411\n",
       "desirable      0.004561   0.005092\n",
       "elegant        0.004257   0.004137\n",
       "adorable       0.003953   0.001591\n",
       "functional     0.001824   0.002228"
      ]
     },
     "execution_count": 328,
     "metadata": {},
     "output_type": "execute_result"
    }
   ],
   "source": [
    "prop_adj"
   ]
  },
  {
   "cell_type": "code",
   "execution_count": 340,
   "metadata": {},
   "outputs": [
    {
     "data": {
      "image/png": "[encoded data removed]",
      "text/plain": [
       "<Figure size 720x720 with 2 Axes>"
      ]
     },
     "metadata": {
      "needs_background": "light"
     },
     "output_type": "display_data"
    }
   ],
   "source": [
    "axes = prop_adj.plot.bar(legend = None, subplots=True, figsize = (10,10))\n",
    "axes[0].set_xlabel('adjectives', fontsize = 14)\n",
    "axes[0].set_ylabel('proportion', fontsize = 14)\n",
    "axes[0].set_title('High rating listings usage of adjectives in description', fontsize = 16);\n",
    "axes[1].set_xlabel('adjectives', fontsize = 14)\n",
    "axes[1].set_ylabel('proportion', fontsize = 14)\n",
    "axes[1].set_title('Low rating listings usage of adjectives in description', fontsize = 16);"
   ]
  },
  {
   "cell_type": "code",
   "execution_count": 343,
   "metadata": {},
   "outputs": [],
   "source": [
    "fig = axes[0].get_figure()\n",
    "fig.savefig('Description-high.png', dpi = 100)"
   ]
  },
  {
   "cell_type": "code",
   "execution_count": 342,
   "metadata": {},
   "outputs": [
    {
     "data": {
      "text/plain": [
       "<Figure size 432x288 with 0 Axes>"
      ]
     },
     "metadata": {},
     "output_type": "display_data"
    }
   ],
   "source": [
    "plt.savefig('Description-high.png', dpi = 100)"
   ]
  },
  {
   "cell_type": "code",
   "execution_count": 42,
   "metadata": {},
   "outputs": [
    {
     "data": {
      "text/plain": [
       "Text(0.5, 1.0, 'Low rating listings usage of adjectives in description')"
      ]
     },
     "execution_count": 42,
     "metadata": {},
     "output_type": "execute_result"
    },
    {
     "data": {
      "image/png": "[encoded data removed]",
      "text/plain": [
       "<Figure size 432x288 with 1 Axes>"
      ]
     },
     "metadata": {
      "needs_background": "light"
     },
     "output_type": "display_data"
    }
   ],
   "source": [
    "axes2 = prop_adj_low.plot.bar(legend = None, color = 'gray')\n",
    "axes2.set_xlabel('adjectives', fontsize = 14)\n",
    "axes2.set_ylabel('proportion', fontsize = 14)\n",
    "axes2.set_title('Low rating listings usage of adjectives in description', fontsize = 16)"
   ]
  },
  {
   "cell_type": "markdown",
   "metadata": {},
   "source": [
    "### Answer of Question 1\n",
    "It seems there is no huge difference in the adjective usage in the descriptions between high rating score listings and low rating score listings -- at least the top three adjectives are the same between two groups.   \n",
    "\n",
    "Other adjectives might have different order in the usage proportion, but not far from each other between these two groups. "
   ]
  },
  {
   "cell_type": "markdown",
   "metadata": {},
   "source": [
    "## Solving Question 2\n",
    "Next, I will explore whether the **description of the neighborhood** (column **'neighborhood_overview'**) affects the rating score.  \n",
    "\n",
    "Similar to question 1, I will compare the adjectives usage between high rating listings and low rating listings."
   ]
  },
  {
   "cell_type": "code",
   "execution_count": 43,
   "metadata": {},
   "outputs": [
    {
     "data": {
      "text/plain": [
       "738"
      ]
     },
     "execution_count": 43,
     "metadata": {},
     "output_type": "execute_result"
    }
   ],
   "source": [
    "# There are NaN values in 'neighborhood_overview'\n",
    "df_new.neighborhood_overview.isnull().sum()"
   ]
  },
  {
   "cell_type": "code",
   "execution_count": 44,
   "metadata": {},
   "outputs": [],
   "source": [
    "# Delete rows with NaN in 'neighborhood_overview'\n",
    "df_q2 = df_new.dropna(subset = ['neighborhood_overview'], axis = 0)"
   ]
  },
  {
   "cell_type": "code",
   "execution_count": 45,
   "metadata": {},
   "outputs": [],
   "source": [
    "# separate data into high rating group and low rating group\n",
    "y_q2 = df_q2.review_scores_rating\n",
    "df2_high_score = df_q2[y_q2 > np.percentile(y_q2,75)]\n",
    "df2_low_score  = df_q2[y_q2 < np.percentile(y_q2,25)]"
   ]
  },
  {
   "cell_type": "code",
   "execution_count": 46,
   "metadata": {},
   "outputs": [],
   "source": [
    "# use get_count funtion to sort out the adjective usage\n",
    "adj_high_neighbor      = get_count(df2_high_score, col = 'neighborhood_overview')\n",
    "adj_low_neighbor       = get_count(df2_low_score, col = 'neighborhood_overview')\n",
    "prop_adj_high_neighbor = adj_high_neighbor/adj_high_neighbor.sum()\n",
    "prop_adj_low_neighbor  = adj_low_neighbor/adj_low_neighbor.sum()"
   ]
  },
  {
   "cell_type": "code",
   "execution_count": 47,
   "metadata": {},
   "outputs": [
    {
     "data": {
      "text/plain": [
       "Text(0.5, 1.0, 'Low rating listings usage of adjectives in neighborhood overview')"
      ]
     },
     "execution_count": 47,
     "metadata": {},
     "output_type": "execute_result"
    },
    {
     "data": {
      "image/png": "[encoded data removed]",
      "text/plain": [
       "<Figure size 432x288 with 1 Axes>"
      ]
     },
     "metadata": {
      "needs_background": "light"
     },
     "output_type": "display_data"
    },
    {
     "data": {
      "image/png": "[encoded data removed]",
      "text/plain": [
       "<Figure size 432x288 with 1 Axes>"
      ]
     },
     "metadata": {
      "needs_background": "light"
     },
     "output_type": "display_data"
    }
   ],
   "source": [
    "axes3 = prop_adj_high_neighbor.plot(kind = 'bar', legend = None, color = 'orange')\n",
    "axes3.set_xlabel('adjectives', fontsize = 14)\n",
    "axes3.set_ylabel('proportion', fontsize = 14)\n",
    "axes3.set_title('High rating listings usage of adjectives in neighborhood overview', fontsize = 16)\n",
    "axes4 = prop_adj_low_neighbor.plot(kind = 'bar', legend = None, color = 'grey')\n",
    "axes4.set_xlabel('adjectives', fontsize = 14)\n",
    "axes4.set_ylabel('proportion', fontsize = 14)\n",
    "axes4.set_title('Low rating listings usage of adjectives in neighborhood overview', fontsize = 16)"
   ]
  },
  {
   "cell_type": "markdown",
   "metadata": {},
   "source": [
    "Again, it seems the adjectives used in neighborhood overview between these two groups are not quite different from each other. And the top three adjectives are the same in the description of listings.  \n",
    "\n",
    "Another factor of the description of neighborhood is nouns related to the entertainment and daily life, such as \"shopping\" and \"coffee\". By looking through the column **'neighborhood_overview'** I extract some daily life related noun in the variable **possible_noun**.  \n",
    "\n",
    "I will plot out the noun usage between high rating score listings and low rating score listings."
   ]
  },
  {
   "cell_type": "code",
   "execution_count": 48,
   "metadata": {},
   "outputs": [],
   "source": [
    "possible_noun = ['restaurants', 'food', 'bars', 'coffee', 'cafes', 'shopping', 'music', 'mall', 'park', 'grocery', 'moive']"
   ]
  },
  {
   "cell_type": "code",
   "execution_count": 49,
   "metadata": {},
   "outputs": [],
   "source": [
    "# use get_count funtion to sort out the noun usage\n",
    "n_high_neighbor      = get_count(df_high_score, col = 'neighborhood_overview', search_for = possible_noun)\n",
    "n_low_neighbor       = get_count(df_low_score, col = 'neighborhood_overview', search_for = possible_noun)\n",
    "prop_n_high_neighbor = n_high_neighbor/n_high_neighbor.sum()\n",
    "prop_n_low_neighbor  = n_low_neighbor/n_low_neighbor.sum()"
   ]
  },
  {
   "cell_type": "code",
   "execution_count": 50,
   "metadata": {},
   "outputs": [
    {
     "data": {
      "text/plain": [
       "Text(0.5, 1.0, 'Low rating listings usage of nouns in neighborhood overview')"
      ]
     },
     "execution_count": 50,
     "metadata": {},
     "output_type": "execute_result"
    },
    {
     "data": {
      "image/png": "[encoded data removed]",
      "text/plain": [
       "<Figure size 432x288 with 1 Axes>"
      ]
     },
     "metadata": {
      "needs_background": "light"
     },
     "output_type": "display_data"
    },
    {
     "data": {
      "image/png": "[encoded data removed]",
      "text/plain": [
       "<Figure size 432x288 with 1 Axes>"
      ]
     },
     "metadata": {
      "needs_background": "light"
     },
     "output_type": "display_data"
    }
   ],
   "source": [
    "axes5 = prop_n_high_neighbor.plot(kind = 'bar', legend = None, color = 'orange')\n",
    "axes5.set_xlabel('adjectives', fontsize = 14)\n",
    "axes5.set_ylabel('proportion', fontsize = 14)\n",
    "axes5.set_title('High rating listings usage of nouns in neighborhood overview', fontsize = 16)\n",
    "axes6 = prop_n_low_neighbor.plot(kind = 'bar', legend = None, color = 'grey')\n",
    "axes6.set_xlabel('adjectives', fontsize = 14)\n",
    "axes6.set_ylabel('proportion', fontsize = 14)\n",
    "axes6.set_title('Low rating listings usage of nouns in neighborhood overview', fontsize = 16)"
   ]
  },
  {
   "cell_type": "markdown",
   "metadata": {},
   "source": [
    "It seems subjective factors did not affect the review score rating. The next step is to explore the objective factors.\n",
    "\n",
    "## Solving Question 3\n",
    "\n",
    "All the objective factors of interests include: \n",
    "\n",
    "**Quantitive variables:**  \n",
    "1) 'accommodates'  \n",
    "2) 'bathrooms'  \n",
    "3) 'bedrooms'  \n",
    "4) **'price_per_person'**: a new column I will create by dividing 'price' by 'accommodates' for each row  \n",
    "5) 'security_deposit'  \n",
    "6) 'cleaning_fee'  \n",
    "\n",
    "**Categorical variables:**  \n",
    "1) 'host_response_time': within an hour, within a few hours, within a day, a few days or more  \n",
    "2) 'host_is_superhost': whether the host is a superhost or not, boolean variable  \n",
    "3) 'host_has_profile_pic': whether the host provides a profile picture or not, boolean variable  \n",
    "4) 'host_identity_verified': whether the host's identity is verified or not  \n",
    "5) 'is_location_exact': whether the location provided is accurate or not  \n",
    "6) 'room_type': entire home/apt, private room, shared room  \n",
    "7) 'bed_type': real bed, futon, pull_out sofa, airbed, couch  \n",
    "8) 'cancellation_policy': strict, moderate, flexible  \n",
    "9) 'instant_bookable': boolean  \n",
    "10) 'require_guest_profile_picture': boolean  \n",
    "11) 'require_guest_phone_verification': boolean  \n",
    "\n",
    "**Special varibales:** whether the row is null or not is the information we care about.  \n",
    "1) 'transit': whether transportation method is provided  \n",
    "2) 'host_about': whether the host provides self introduction  "
   ]
  },
  {
   "cell_type": "code",
   "execution_count": null,
   "metadata": {},
   "outputs": [],
   "source": [
    "# use this cell to take a look at what variables have NaN values\n",
    "df_new.isnull().sum().sort_values(ascending=False)"
   ]
  },
  {
   "cell_type": "markdown",
   "metadata": {},
   "source": [
    "### Dealing with NaN"
   ]
  },
  {
   "cell_type": "code",
   "execution_count": 111,
   "metadata": {},
   "outputs": [],
   "source": [
    "# for 'bathrooms' and we will replace the NaN by 1 (it is reasonable to assume that each Airbnb listing has at least 1 bathroom)\n",
    "df_new['bathrooms'].fillna(1, inplace = True);"
   ]
  },
  {
   "cell_type": "code",
   "execution_count": 53,
   "metadata": {
    "collapsed": true,
    "jupyter": {
     "outputs_hidden": true
    }
   },
   "outputs": [
    {
     "name": "stderr",
     "output_type": "stream",
     "text": [
      "/Users/yeli/anaconda3/lib/python3.7/site-packages/pandas/core/generic.py:6130: SettingWithCopyWarning: \n",
      "A value is trying to be set on a copy of a slice from a DataFrame\n",
      "\n",
      "See the caveats in the documentation: http://pandas.pydata.org/pandas-docs/stable/indexing.html#indexing-view-versus-copy\n",
      "  self._update_inplace(new_data)\n"
     ]
    }
   ],
   "source": [
    "# for 'bedrooms', assumming that 1 bedroom can have 2 accommodates, I will replace the NaN in 'bedrooms' by (accommodates/2) for a given row\n",
    "df_new['bedrooms'].fillna(df_new.accommodates/2, inplace = True)"
   ]
  },
  {
   "cell_type": "code",
   "execution_count": 54,
   "metadata": {
    "collapsed": true,
    "jupyter": {
     "outputs_hidden": true
    }
   },
   "outputs": [
    {
     "name": "stderr",
     "output_type": "stream",
     "text": [
      "/Users/yeli/anaconda3/lib/python3.7/site-packages/pandas/core/generic.py:5096: SettingWithCopyWarning: \n",
      "A value is trying to be set on a copy of a slice from a DataFrame.\n",
      "Try using .loc[row_indexer,col_indexer] = value instead\n",
      "\n",
      "See the caveats in the documentation: http://pandas.pydata.org/pandas-docs/stable/indexing.html#indexing-view-versus-copy\n",
      "  self[name] = value\n"
     ]
    }
   ],
   "source": [
    "# for 'security_deposit' and 'cleaning_fee', replace NaN by $0, then clean the data format to make them into float\n",
    "df_new.fillna(value = {'security_deposit': '$0', 'cleaning_fee': '$0'}, inplace=True)\n",
    "\n",
    "df_new.security_deposit = df_new.security_deposit.str.lstrip('$');\n",
    "df_new.cleaning_fee = df_new.cleaning_fee.str.lstrip('$');\n",
    "df_new.security_deposit = df_new.security_deposit.str.replace(',', '').astype(float)\n",
    "df_new.cleaning_fee     = df_new.cleaning_fee.str.replace(',', '').astype(float)"
   ]
  },
  {
   "cell_type": "code",
   "execution_count": 76,
   "metadata": {},
   "outputs": [],
   "source": [
    "# for 'price', first make it into float, then create a  to price per person\n",
    "df_new.price = df_new.price.str.lstrip('$');\n",
    "df_new.price = df_new.price.str.replace(',', '').astype(float)"
   ]
  },
  {
   "cell_type": "code",
   "execution_count": 80,
   "metadata": {},
   "outputs": [],
   "source": [
    "df_new['price_per_person'] = df_new.price/df_new.accommodates"
   ]
  },
  {
   "cell_type": "code",
   "execution_count": 58,
   "metadata": {},
   "outputs": [],
   "source": [
    "# for 'transit' and 'host_about', use NaN information to recode them into 1 = provided (not NaN) and 0 = not provided (is NaN)\n",
    "df_new.transit    = df_new.transit.notnull().astype(int)\n",
    "df_new.host_about = df_new.host_about.notnull().astype(int)"
   ]
  },
  {
   "cell_type": "code",
   "execution_count": 59,
   "metadata": {},
   "outputs": [],
   "source": [
    "# for 'host_response_time', I will delete rows with NaN\n",
    "df_new = df_new.dropna(subset = ['host_response_time'], axis = 0)"
   ]
  },
  {
   "cell_type": "markdown",
   "metadata": {},
   "source": [
    "### Convert categorical variables to dummy variables, recode boolean variables to '1 vs 0'"
   ]
  },
  {
   "cell_type": "code",
   "execution_count": 63,
   "metadata": {},
   "outputs": [],
   "source": [
    "# convert boolean variables (t = true, f = false) to 1 vs 0 coding (1 = true, 0 = false)\n",
    "bool_process_col = ['host_is_superhost', 'host_has_profile_pic', \n",
    "                    'host_identity_verified', 'is_location_exact',\n",
    "                    'instant_bookable', 'require_guest_profile_picture',\n",
    "                    'require_guest_phone_verification']\n",
    "\n",
    "df_new[bool_process_col] = (df_new[bool_process_col] == 't').astype(int)"
   ]
  },
  {
   "cell_type": "code",
   "execution_count": 71,
   "metadata": {},
   "outputs": [],
   "source": [
    "# a list of categorical variables of interest\n",
    "cat_cols_lst = ['host_response_time', 'room_type', 'bed_type', 'cancellation_policy']"
   ]
  },
  {
   "cell_type": "code",
   "execution_count": 72,
   "metadata": {},
   "outputs": [],
   "source": [
    "# function to create dummy variables for categorical variables\n",
    "# this code is from Udacity Data Scientist Nanodegree class\n",
    "def create_dummy_df(df, cat_cols, dummy_na):\n",
    "    '''\n",
    "    INPUT:\n",
    "    df - pandas dataframe with categorical variables you want to dummy\n",
    "    cat_cols - list of strings that are associated with names of the categorical columns\n",
    "    dummy_na - Bool holding whether you want to dummy NA vals of categorical columns or not\n",
    "    \n",
    "    OUTPUT:\n",
    "    df - a new dataframe that has the following characteristics:\n",
    "            1. contains all columns that were not specified as categorical\n",
    "            2. removes all the original columns in cat_cols\n",
    "            3. dummy columns for each of the categorical columns in cat_cols\n",
    "            4. if dummy_na is True - it also contains dummy columns for the NaN values\n",
    "            5. Use a prefix of the column name with an underscore (_) for separating \n",
    "    '''\n",
    "    for col in  cat_cols:\n",
    "        try:\n",
    "            # for each cat add dummy var, drop original column\n",
    "            df = pd.concat([df.drop(col, axis=1), pd.get_dummies(df[col], prefix=col, prefix_sep='_', drop_first=True, dummy_na=dummy_na)], axis=1)\n",
    "        except:\n",
    "            continue\n",
    "    return df"
   ]
  },
  {
   "cell_type": "code",
   "execution_count": null,
   "metadata": {},
   "outputs": [],
   "source": []
  },
  {
   "cell_type": "code",
   "execution_count": 223,
   "metadata": {},
   "outputs": [],
   "source": [
    "# fit linear model\n",
    "def fit_linear_mod(df, response_col, cat_cols, dummy_na, test_size = .3, rand_state = 42):\n",
    "    '''\n",
    "    Create dummy variables for categorical variables, fit Linear Regression model.\n",
    "    Modified from code from Udacity Data Scientist Nanodegree class.\n",
    "    \n",
    "    INPUT:\n",
    "    df - a dataframe holding all the variables of interest\n",
    "    response_col - a string holding the name of the column \n",
    "    cat_cols - list of strings that are associated with names of the categorical columns\n",
    "    dummy_na - Bool holding whether you want to dummy NA vals of categorical columns or not\n",
    "    test_size - a float between [0,1] about what proportion of data should be in the test dataset\n",
    "    rand_state - an int that is provided as the random state for splitting the data into training and test \n",
    "    \n",
    "    OUTPUT:\n",
    "    test_score - float - r2 score on the test data\n",
    "    train_score - float - r2 score on the test data\n",
    "    lm_model - model object from sklearn\n",
    "    X_train, X_test, y_train, y_test - output from sklearn train test split used for optimal model\n",
    "    '''\n",
    "    # Dummy categorical variables\n",
    "    df = create_dummy_df(df, cat_cols, dummy_na)\n",
    "    \n",
    "    # Split into explanatory and response variables\n",
    "    X = df.drop(response_col, axis = 1)\n",
    "    y = df[response_col]\n",
    "    \n",
    "    # Split into train and test\n",
    "    X_train, X_test, y_train, y_test = train_test_split(X, y, test_size=test_size, random_state=rand_state)\n",
    "    \n",
    "    lm_model = LinearRegression(normalize=True) # Instantiate\n",
    "    lm_model.fit(X_train, y_train) #Fit\n",
    "\n",
    "    #Predict using your model\n",
    "    y_test_preds = lm_model.predict(X_test)\n",
    "    y_train_preds = lm_model.predict(X_train)\n",
    "\n",
    "    #Score using your model\n",
    "    test_score = r2_score(y_test, y_test_preds)\n",
    "    train_score = r2_score(y_train, y_train_preds)\n",
    "\n",
    "    return test_score, train_score, lm_model, X_train, X_test, y_train, y_test    "
   ]
  },
  {
   "cell_type": "code",
   "execution_count": 269,
   "metadata": {},
   "outputs": [],
   "source": [
    "# select data from columns we need for question 3\n",
    "\n",
    "col_list_needed = [ 'host_has_profile_pic', 'host_identity_verified',\n",
    "                   'price_per_person', 'security_deposit', 'cleaning_fee',\n",
    "                   'host_response_time', 'host_is_superhost', \n",
    "                    'is_location_exact', \n",
    "                   'bed_type', 'cancellation_policy', 'instant_bookable',\n",
    "                   'require_guest_profile_picture', 'require_guest_phone_verification',\n",
    "                   'review_scores_rating']"
   ]
  },
  {
   "cell_type": "code",
   "execution_count": 270,
   "metadata": {},
   "outputs": [],
   "source": [
    "df_needed  = df_new[col_list_needed]"
   ]
  },
  {
   "cell_type": "code",
   "execution_count": 271,
   "metadata": {},
   "outputs": [],
   "source": [
    "test_score, train_score, lm_model, X_train, X_test, y_train, y_test = fit_linear_mod(df_needed, 'review_scores_rating', cat_cols_lst, dummy_na = False)"
   ]
  },
  {
   "cell_type": "code",
   "execution_count": 272,
   "metadata": {},
   "outputs": [
    {
     "data": {
      "text/plain": [
       "0.101862592962783"
      ]
     },
     "execution_count": 272,
     "metadata": {},
     "output_type": "execute_result"
    }
   ],
   "source": [
    "train_score"
   ]
  },
  {
   "cell_type": "code",
   "execution_count": 273,
   "metadata": {},
   "outputs": [
    {
     "data": {
      "text/plain": [
       "0.043913148270196656"
      ]
     },
     "execution_count": 273,
     "metadata": {},
     "output_type": "execute_result"
    }
   ],
   "source": [
    "test_score"
   ]
  },
  {
   "cell_type": "code",
   "execution_count": 274,
   "metadata": {},
   "outputs": [
    {
     "data": {
      "text/html": [
       "<table class=\"simpletable\">\n",
       "<tr>\n",
       "          <td>Model:</td>                   <td>OLS</td>         <td>Adj. R-squared (uncentered):</td>    <td>0.995</td>  \n",
       "</tr>\n",
       "<tr>\n",
       "    <td>Dependent Variable:</td>   <td>review_scores_rating</td>             <td>AIC:</td>             <td>13419.4380</td>\n",
       "</tr>\n",
       "<tr>\n",
       "           <td>Date:</td>            <td>2020-05-26 18:21</td>               <td>BIC:</td>             <td>13525.8647</td>\n",
       "</tr>\n",
       "<tr>\n",
       "     <td>No. Observations:</td>            <td>2001</td>                <td>Log-Likelihood:</td>         <td>-6690.7</td> \n",
       "</tr>\n",
       "<tr>\n",
       "         <td>Df Model:</td>                 <td>19</td>                  <td>F-statistic:</td>          <td>1.979e+04</td>\n",
       "</tr>\n",
       "<tr>\n",
       "       <td>Df Residuals:</td>              <td>1982</td>              <td>Prob (F-statistic):</td>        <td>0.00</td>   \n",
       "</tr>\n",
       "<tr>\n",
       "  <td>R-squared (uncentered):</td>         <td>0.995</td>                   <td>Scale:</td>              <td>47.420</td>  \n",
       "</tr>\n",
       "</table>\n",
       "<table class=\"simpletable\">\n",
       "<tr>\n",
       "                    <td></td>                     <th>Coef.</th>  <th>Std.Err.</th>    <th>t</th>     <th>P>|t|</th> <th>[0.025</th>  <th>0.975]</th> \n",
       "</tr>\n",
       "<tr>\n",
       "  <th>host_has_profile_pic</th>                  <td>61.1867</td>  <td>2.3686</td>  <td>25.8324</td> <td>0.0000</td> <td>56.5415</td> <td>65.8319</td>\n",
       "</tr>\n",
       "<tr>\n",
       "  <th>host_identity_verified</th>                <td>0.8727</td>   <td>0.4192</td>  <td>2.0821</td>  <td>0.0375</td> <td>0.0507</td>  <td>1.6947</td> \n",
       "</tr>\n",
       "<tr>\n",
       "  <th>price_per_person</th>                      <td>0.0279</td>   <td>0.0085</td>  <td>3.3028</td>  <td>0.0010</td> <td>0.0113</td>  <td>0.0445</td> \n",
       "</tr>\n",
       "<tr>\n",
       "  <th>security_deposit</th>                      <td>0.0018</td>   <td>0.0008</td>  <td>2.1808</td>  <td>0.0293</td> <td>0.0002</td>  <td>0.0035</td> \n",
       "</tr>\n",
       "<tr>\n",
       "  <th>cleaning_fee</th>                          <td>0.0007</td>   <td>0.0038</td>  <td>0.1886</td>  <td>0.8504</td> <td>-0.0068</td> <td>0.0082</td> \n",
       "</tr>\n",
       "<tr>\n",
       "  <th>host_is_superhost</th>                     <td>3.5072</td>   <td>0.3670</td>  <td>9.5554</td>  <td>0.0000</td> <td>2.7873</td>  <td>4.2270</td> \n",
       "</tr>\n",
       "<tr>\n",
       "  <th>is_location_exact</th>                     <td>1.7281</td>   <td>0.5287</td>  <td>3.2684</td>  <td>0.0011</td> <td>0.6912</td>  <td>2.7650</td> \n",
       "</tr>\n",
       "<tr>\n",
       "  <th>instant_bookable</th>                      <td>-0.2028</td>  <td>0.4200</td>  <td>-0.4828</td> <td>0.6293</td> <td>-1.0264</td> <td>0.6208</td> \n",
       "</tr>\n",
       "<tr>\n",
       "  <th>require_guest_profile_picture</th>         <td>-1.0494</td>  <td>1.0459</td>  <td>-1.0033</td> <td>0.3158</td> <td>-3.1007</td> <td>1.0019</td> \n",
       "</tr>\n",
       "<tr>\n",
       "  <th>require_guest_phone_verification</th>      <td>0.2393</td>   <td>0.9739</td>  <td>0.2457</td>  <td>0.8059</td> <td>-1.6707</td> <td>2.1493</td> \n",
       "</tr>\n",
       "<tr>\n",
       "  <th>host_response_time_within a day</th>       <td>16.8003</td>  <td>1.6025</td>  <td>10.4838</td> <td>0.0000</td> <td>13.6575</td> <td>19.9430</td>\n",
       "</tr>\n",
       "<tr>\n",
       "  <th>host_response_time_within a few hours</th> <td>15.6389</td>  <td>1.5921</td>  <td>9.8229</td>  <td>0.0000</td> <td>12.5165</td> <td>18.7612</td>\n",
       "</tr>\n",
       "<tr>\n",
       "  <th>host_response_time_within an hour</th>     <td>17.0496</td>  <td>1.5837</td>  <td>10.7655</td> <td>0.0000</td> <td>13.9436</td> <td>20.1555</td>\n",
       "</tr>\n",
       "<tr>\n",
       "  <th>bed_type_Couch</th>                        <td>15.0074</td>  <td>3.6401</td>  <td>4.1228</td>  <td>0.0000</td> <td>7.8686</td>  <td>22.1462</td>\n",
       "</tr>\n",
       "<tr>\n",
       "  <th>bed_type_Futon</th>                        <td>13.1839</td>  <td>2.2790</td>  <td>5.7850</td>  <td>0.0000</td> <td>8.7144</td>  <td>17.6534</td>\n",
       "</tr>\n",
       "<tr>\n",
       "  <th>bed_type_Pull-out Sofa</th>                <td>13.1922</td>  <td>2.4486</td>  <td>5.3877</td>  <td>0.0000</td> <td>8.3902</td>  <td>17.9942</td>\n",
       "</tr>\n",
       "<tr>\n",
       "  <th>bed_type_Real Bed</th>                     <td>13.4449</td>  <td>1.9407</td>  <td>6.9280</td>  <td>0.0000</td> <td>9.6389</td>  <td>17.2509</td>\n",
       "</tr>\n",
       "<tr>\n",
       "  <th>cancellation_policy_moderate</th>          <td>-1.1083</td>  <td>0.4256</td>  <td>-2.6043</td> <td>0.0093</td> <td>-1.9430</td> <td>-0.2737</td>\n",
       "</tr>\n",
       "<tr>\n",
       "  <th>cancellation_policy_strict</th>            <td>-1.5783</td>  <td>0.4524</td>  <td>-3.4889</td> <td>0.0005</td> <td>-2.4654</td> <td>-0.6911</td>\n",
       "</tr>\n",
       "</table>\n",
       "<table class=\"simpletable\">\n",
       "<tr>\n",
       "     <td>Omnibus:</td>    <td>958.288</td>  <td>Durbin-Watson:</td>     <td>1.987</td>  \n",
       "</tr>\n",
       "<tr>\n",
       "  <td>Prob(Omnibus):</td>  <td>0.000</td>  <td>Jarque-Bera (JB):</td> <td>39418.394</td>\n",
       "</tr>\n",
       "<tr>\n",
       "       <td>Skew:</td>     <td>-1.551</td>      <td>Prob(JB):</td>       <td>0.000</td>  \n",
       "</tr>\n",
       "<tr>\n",
       "     <td>Kurtosis:</td>   <td>24.521</td>   <td>Condition No.:</td>     <td>7741</td>   \n",
       "</tr>\n",
       "</table>"
      ],
      "text/plain": [
       "<class 'statsmodels.iolib.summary2.Summary'>\n",
       "\"\"\"\n",
       "                           Results: Ordinary least squares\n",
       "=====================================================================================\n",
       "Model:                   OLS                  Adj. R-squared (uncentered): 0.995     \n",
       "Dependent Variable:      review_scores_rating AIC:                         13419.4380\n",
       "Date:                    2020-05-26 18:21     BIC:                         13525.8647\n",
       "No. Observations:        2001                 Log-Likelihood:              -6690.7   \n",
       "Df Model:                19                   F-statistic:                 1.979e+04 \n",
       "Df Residuals:            1982                 Prob (F-statistic):          0.00      \n",
       "R-squared (uncentered):  0.995                Scale:                       47.420    \n",
       "-------------------------------------------------------------------------------------\n",
       "                                       Coef.  Std.Err.    t    P>|t|   [0.025  0.975]\n",
       "-------------------------------------------------------------------------------------\n",
       "host_has_profile_pic                  61.1867   2.3686 25.8324 0.0000 56.5415 65.8319\n",
       "host_identity_verified                 0.8727   0.4192  2.0821 0.0375  0.0507  1.6947\n",
       "price_per_person                       0.0279   0.0085  3.3028 0.0010  0.0113  0.0445\n",
       "security_deposit                       0.0018   0.0008  2.1808 0.0293  0.0002  0.0035\n",
       "cleaning_fee                           0.0007   0.0038  0.1886 0.8504 -0.0068  0.0082\n",
       "host_is_superhost                      3.5072   0.3670  9.5554 0.0000  2.7873  4.2270\n",
       "is_location_exact                      1.7281   0.5287  3.2684 0.0011  0.6912  2.7650\n",
       "instant_bookable                      -0.2028   0.4200 -0.4828 0.6293 -1.0264  0.6208\n",
       "require_guest_profile_picture         -1.0494   1.0459 -1.0033 0.3158 -3.1007  1.0019\n",
       "require_guest_phone_verification       0.2393   0.9739  0.2457 0.8059 -1.6707  2.1493\n",
       "host_response_time_within a day       16.8003   1.6025 10.4838 0.0000 13.6575 19.9430\n",
       "host_response_time_within a few hours 15.6389   1.5921  9.8229 0.0000 12.5165 18.7612\n",
       "host_response_time_within an hour     17.0496   1.5837 10.7655 0.0000 13.9436 20.1555\n",
       "bed_type_Couch                        15.0074   3.6401  4.1228 0.0000  7.8686 22.1462\n",
       "bed_type_Futon                        13.1839   2.2790  5.7850 0.0000  8.7144 17.6534\n",
       "bed_type_Pull-out Sofa                13.1922   2.4486  5.3877 0.0000  8.3902 17.9942\n",
       "bed_type_Real Bed                     13.4449   1.9407  6.9280 0.0000  9.6389 17.2509\n",
       "cancellation_policy_moderate          -1.1083   0.4256 -2.6043 0.0093 -1.9430 -0.2737\n",
       "cancellation_policy_strict            -1.5783   0.4524 -3.4889 0.0005 -2.4654 -0.6911\n",
       "-------------------------------------------------------------------------------------\n",
       "Omnibus:                    958.288            Durbin-Watson:               1.987    \n",
       "Prob(Omnibus):              0.000              Jarque-Bera (JB):            39418.394\n",
       "Skew:                       -1.551             Prob(JB):                    0.000    \n",
       "Kurtosis:                   24.521             Condition No.:               7741     \n",
       "=====================================================================================\n",
       "* The condition number is large (8e+03). This might indicate             strong\n",
       "multicollinearity or other numerical problems.\n",
       "\"\"\""
      ]
     },
     "execution_count": 274,
     "metadata": {},
     "output_type": "execute_result"
    }
   ],
   "source": [
    "mod = sm.OLS(y_train, X_train)\n",
    "fii = mod.fit()\n",
    "p_values = fii.summary2().tables[1]['P>|t|']\n",
    "fii.summary2()"
   ]
  },
  {
   "cell_type": "code",
   "execution_count": 247,
   "metadata": {},
   "outputs": [
    {
     "data": {
      "text/plain": [
       "accommodates                              True\n",
       "bathrooms                                False\n",
       "bedrooms                                 False\n",
       "price_per_person                          True\n",
       "security_deposit                         False\n",
       "cleaning_fee                             False\n",
       "host_is_superhost                         True\n",
       "is_location_exact                         True\n",
       "instant_bookable                         False\n",
       "require_guest_profile_picture            False\n",
       "require_guest_phone_verification         False\n",
       "host_response_time_within a day           True\n",
       "host_response_time_within a few hours     True\n",
       "host_response_time_within an hour         True\n",
       "room_type_Private room                    True\n",
       "room_type_Shared room                     True\n",
       "bed_type_Couch                            True\n",
       "bed_type_Futon                            True\n",
       "bed_type_Pull-out Sofa                    True\n",
       "bed_type_Real Bed                         True\n",
       "cancellation_policy_moderate             False\n",
       "cancellation_policy_strict                True\n",
       "Name: P>|t|, dtype: bool"
      ]
     },
     "execution_count": 247,
     "metadata": {},
     "output_type": "execute_result"
    }
   ],
   "source": [
    "p_values < 0.05"
   ]
  },
  {
   "cell_type": "code",
   "execution_count": 276,
   "metadata": {},
   "outputs": [],
   "source": [
    "# plot \n",
    "\n",
    "# separate\n",
    "y_q3 = df_needed.review_scores_rating\n",
    "df3_high_score = df_needed[y_q3 > np.percentile(y_q3,50)]\n",
    "df3_low_score  = df_needed[y_q3 < np.percentile(y_q3,50)]"
   ]
  },
  {
   "cell_type": "code",
   "execution_count": 279,
   "metadata": {},
   "outputs": [
    {
     "data": {
      "text/plain": [
       "0.9969650986342944"
      ]
     },
     "execution_count": 279,
     "metadata": {},
     "output_type": "execute_result"
    }
   ],
   "source": [
    "df3_high_score.host_has_profile_pic.mean()"
   ]
  },
  {
   "cell_type": "code",
   "execution_count": 280,
   "metadata": {},
   "outputs": [
    {
     "data": {
      "text/plain": [
       "1.0"
      ]
     },
     "execution_count": 280,
     "metadata": {},
     "output_type": "execute_result"
    }
   ],
   "source": [
    "df3_low_score.host_has_profile_pic.mean()"
   ]
  },
  {
   "cell_type": "code",
   "execution_count": 256,
   "metadata": {},
   "outputs": [
    {
     "data": {
      "image/png": "[encoded data removed]",
      "text/plain": [
       "<Figure size 432x288 with 1 Axes>"
      ]
     },
     "metadata": {
      "needs_background": "light"
     },
     "output_type": "display_data"
    }
   ],
   "source": [
    "labels = ['accommodates','price/person', 'security deposity', 'superhost percentage', 'exact loc percentage']\n",
    "y_accommodates = [df3_high_score.accommodates.mean(), df3_low_score.accommodates.mean()]\n",
    "y_price    = [df3_high_score.price_per_person.mean(), df3_low_score.price_per_person.mean()]\n",
    "y_deposit = [df3_high_score.security_deposit.mean(), df3_low_score.security_deposit.mean()]\n",
    "y_superhost = [df3_high_score.host_is_superhost.mean()*100, df3_low_score.host_is_superhost.mean()*100]\n",
    "y_loc_exact = [df3_high_score.is_location_exact.mean()*100, df3_low_score.is_location_exact.mean()*100]\n",
    "\n",
    "high_value = [y_accommodates[0], y_price[0], y_deposit[0], y_superhost[0], y_loc_exact[0]]\n",
    "low_value  = [y_accommodates[1], y_price[1], y_deposit[1], y_superhost[1], y_loc_exact[1]]\n",
    "\n",
    "high_value_round = [round(h) for h in high_value]\n",
    "low_value_round  = [round(r) for r in low_value]\n",
    "\n",
    "x = np.arange(len(labels))  # the label locations\n",
    "width = 0.35  # the width of the bars\n",
    "\n",
    "fig, ax = plt.subplots()\n",
    "rects1 = ax.bar(x - width/2, high_value_round, width, label='High rating group')\n",
    "rects2 = ax.bar(x + width/2, low_value_round, width, label='Low rating group')\n",
    "\n",
    "# Add some text for labels, title and custom x-axis tick labels, etc.\n",
    "ax.set_ylabel('Scores')\n",
    "ax.set_title('Scores by group and gender')\n",
    "ax.set_xticks(x)\n",
    "ax.set_xticklabels(labels)\n",
    "ax.legend()\n",
    "\n",
    "\n",
    "def autolabel(rects):\n",
    "    \"\"\"Attach a text label above each bar in *rects*, displaying its height.\"\"\"\n",
    "    for rect in rects:\n",
    "        height = rect.get_height()\n",
    "        ax.annotate('{}'.format(height),\n",
    "                    xy=(rect.get_x() + rect.get_width() / 2, height),\n",
    "                    xytext=(0, 3),  # 3 points vertical offset\n",
    "                    textcoords=\"offset points\",\n",
    "                    ha='center', va='bottom')\n",
    "\n",
    "\n",
    "autolabel(rects1)\n",
    "autolabel(rects2)\n",
    "\n",
    "fig.tight_layout()\n",
    "\n",
    "plt.show()"
   ]
  },
  {
   "cell_type": "code",
   "execution_count": 251,
   "metadata": {},
   "outputs": [
    {
     "data": {
      "text/plain": [
       "[3, 37, 129, 8, 90, 79]"
      ]
     },
     "execution_count": 251,
     "metadata": {},
     "output_type": "execute_result"
    }
   ],
   "source": [
    "low_value_round"
   ]
  },
  {
   "cell_type": "code",
   "execution_count": 174,
   "metadata": {},
   "outputs": [
    {
     "data": {
      "text/plain": [
       "0.02785923753665689"
      ]
     },
     "execution_count": 174,
     "metadata": {},
     "output_type": "execute_result"
    }
   ],
   "source": [
    "df3_low_score.host_is_superhost.mean()"
   ]
  },
  {
   "cell_type": "code",
   "execution_count": 187,
   "metadata": {},
   "outputs": [
    {
     "ename": "TypeError",
     "evalue": "type list doesn't define __round__ method",
     "output_type": "error",
     "traceback": [
      "\u001b[0;31m---------------------------------------------------------------------------\u001b[0m",
      "\u001b[0;31mTypeError\u001b[0m                                 Traceback (most recent call last)",
      "\u001b[0;32m<ipython-input-187-ce03c145b4fd>\u001b[0m in \u001b[0;36m<module>\u001b[0;34m\u001b[0m\n\u001b[0;32m----> 1\u001b[0;31m \u001b[0mround\u001b[0m\u001b[0;34m(\u001b[0m\u001b[0;34m[\u001b[0m\u001b[0;36m1.2\u001b[0m\u001b[0;34m,\u001b[0m \u001b[0;36m3.4\u001b[0m\u001b[0;34m,\u001b[0m \u001b[0;36m6.7\u001b[0m\u001b[0;34m]\u001b[0m\u001b[0;34m)\u001b[0m\u001b[0;34m\u001b[0m\u001b[0;34m\u001b[0m\u001b[0m\n\u001b[0m",
      "\u001b[0;31mTypeError\u001b[0m: type list doesn't define __round__ method"
     ]
    }
   ],
   "source": [
    "round([1.2, 3.4, 6.7])"
   ]
  },
  {
   "cell_type": "code",
   "execution_count": 253,
   "metadata": {},
   "outputs": [
    {
     "data": {
      "text/plain": [
       "array([0, 1, 2, 3, 4])"
      ]
     },
     "execution_count": 253,
     "metadata": {},
     "output_type": "execute_result"
    }
   ],
   "source": [
    "x"
   ]
  },
  {
   "cell_type": "code",
   "execution_count": 255,
   "metadata": {},
   "outputs": [
    {
     "data": {
      "text/plain": [
       "[3, 41, 151, 40, 91, 81]"
      ]
     },
     "execution_count": 255,
     "metadata": {},
     "output_type": "execute_result"
    }
   ],
   "source": [
    "high_value_round"
   ]
  },
  {
   "cell_type": "code",
   "execution_count": 254,
   "metadata": {},
   "outputs": [
    {
     "ename": "ValueError",
     "evalue": "shape mismatch: objects cannot be broadcast to a single shape",
     "output_type": "error",
     "traceback": [
      "\u001b[0;31m---------------------------------------------------------------------------\u001b[0m",
      "\u001b[0;31mValueError\u001b[0m                                Traceback (most recent call last)",
      "\u001b[0;32m<ipython-input-254-5f53191e83e6>\u001b[0m in \u001b[0;36m<module>\u001b[0;34m\u001b[0m\n\u001b[0;32m----> 1\u001b[0;31m \u001b[0mplt\u001b[0m\u001b[0;34m.\u001b[0m\u001b[0mbar\u001b[0m\u001b[0;34m(\u001b[0m\u001b[0mx\u001b[0m\u001b[0;34m,\u001b[0m\u001b[0mhigh_value_round\u001b[0m\u001b[0;34m)\u001b[0m\u001b[0;34m\u001b[0m\u001b[0;34m\u001b[0m\u001b[0m\n\u001b[0m",
      "\u001b[0;32m~/anaconda3/lib/python3.7/site-packages/matplotlib/pyplot.py\u001b[0m in \u001b[0;36mbar\u001b[0;34m(x, height, width, bottom, align, data, **kwargs)\u001b[0m\n\u001b[1;32m   2432\u001b[0m     return gca().bar(\n\u001b[1;32m   2433\u001b[0m         \u001b[0mx\u001b[0m\u001b[0;34m,\u001b[0m \u001b[0mheight\u001b[0m\u001b[0;34m,\u001b[0m \u001b[0mwidth\u001b[0m\u001b[0;34m=\u001b[0m\u001b[0mwidth\u001b[0m\u001b[0;34m,\u001b[0m \u001b[0mbottom\u001b[0m\u001b[0;34m=\u001b[0m\u001b[0mbottom\u001b[0m\u001b[0;34m,\u001b[0m \u001b[0malign\u001b[0m\u001b[0;34m=\u001b[0m\u001b[0malign\u001b[0m\u001b[0;34m,\u001b[0m\u001b[0;34m\u001b[0m\u001b[0;34m\u001b[0m\u001b[0m\n\u001b[0;32m-> 2434\u001b[0;31m         **({\"data\": data} if data is not None else {}), **kwargs)\n\u001b[0m\u001b[1;32m   2435\u001b[0m \u001b[0;34m\u001b[0m\u001b[0m\n\u001b[1;32m   2436\u001b[0m \u001b[0;34m\u001b[0m\u001b[0m\n",
      "\u001b[0;32m~/anaconda3/lib/python3.7/site-packages/matplotlib/__init__.py\u001b[0m in \u001b[0;36minner\u001b[0;34m(ax, data, *args, **kwargs)\u001b[0m\n\u001b[1;32m   1587\u001b[0m     \u001b[0;32mdef\u001b[0m \u001b[0minner\u001b[0m\u001b[0;34m(\u001b[0m\u001b[0max\u001b[0m\u001b[0;34m,\u001b[0m \u001b[0;34m*\u001b[0m\u001b[0margs\u001b[0m\u001b[0;34m,\u001b[0m \u001b[0mdata\u001b[0m\u001b[0;34m=\u001b[0m\u001b[0;32mNone\u001b[0m\u001b[0;34m,\u001b[0m \u001b[0;34m**\u001b[0m\u001b[0mkwargs\u001b[0m\u001b[0;34m)\u001b[0m\u001b[0;34m:\u001b[0m\u001b[0;34m\u001b[0m\u001b[0;34m\u001b[0m\u001b[0m\n\u001b[1;32m   1588\u001b[0m         \u001b[0;32mif\u001b[0m \u001b[0mdata\u001b[0m \u001b[0;32mis\u001b[0m \u001b[0;32mNone\u001b[0m\u001b[0;34m:\u001b[0m\u001b[0;34m\u001b[0m\u001b[0;34m\u001b[0m\u001b[0m\n\u001b[0;32m-> 1589\u001b[0;31m             \u001b[0;32mreturn\u001b[0m \u001b[0mfunc\u001b[0m\u001b[0;34m(\u001b[0m\u001b[0max\u001b[0m\u001b[0;34m,\u001b[0m \u001b[0;34m*\u001b[0m\u001b[0mmap\u001b[0m\u001b[0;34m(\u001b[0m\u001b[0msanitize_sequence\u001b[0m\u001b[0;34m,\u001b[0m \u001b[0margs\u001b[0m\u001b[0;34m)\u001b[0m\u001b[0;34m,\u001b[0m \u001b[0;34m**\u001b[0m\u001b[0mkwargs\u001b[0m\u001b[0;34m)\u001b[0m\u001b[0;34m\u001b[0m\u001b[0;34m\u001b[0m\u001b[0m\n\u001b[0m\u001b[1;32m   1590\u001b[0m \u001b[0;34m\u001b[0m\u001b[0m\n\u001b[1;32m   1591\u001b[0m         \u001b[0mbound\u001b[0m \u001b[0;34m=\u001b[0m \u001b[0mnew_sig\u001b[0m\u001b[0;34m.\u001b[0m\u001b[0mbind\u001b[0m\u001b[0;34m(\u001b[0m\u001b[0max\u001b[0m\u001b[0;34m,\u001b[0m \u001b[0;34m*\u001b[0m\u001b[0margs\u001b[0m\u001b[0;34m,\u001b[0m \u001b[0;34m**\u001b[0m\u001b[0mkwargs\u001b[0m\u001b[0;34m)\u001b[0m\u001b[0;34m\u001b[0m\u001b[0;34m\u001b[0m\u001b[0m\n",
      "\u001b[0;32m~/anaconda3/lib/python3.7/site-packages/matplotlib/axes/_axes.py\u001b[0m in \u001b[0;36mbar\u001b[0;34m(self, x, height, width, bottom, align, **kwargs)\u001b[0m\n\u001b[1;32m   2373\u001b[0m         x, height, width, y, linewidth = np.broadcast_arrays(\n\u001b[1;32m   2374\u001b[0m             \u001b[0;31m# Make args iterable too.\u001b[0m\u001b[0;34m\u001b[0m\u001b[0;34m\u001b[0m\u001b[0;34m\u001b[0m\u001b[0m\n\u001b[0;32m-> 2375\u001b[0;31m             np.atleast_1d(x), height, width, y, linewidth)\n\u001b[0m\u001b[1;32m   2376\u001b[0m \u001b[0;34m\u001b[0m\u001b[0m\n\u001b[1;32m   2377\u001b[0m         \u001b[0;31m# Now that units have been converted, set the tick locations.\u001b[0m\u001b[0;34m\u001b[0m\u001b[0;34m\u001b[0m\u001b[0;34m\u001b[0m\u001b[0m\n",
      "\u001b[0;32m~/anaconda3/lib/python3.7/site-packages/numpy/lib/stride_tricks.py\u001b[0m in \u001b[0;36mbroadcast_arrays\u001b[0;34m(*args, **kwargs)\u001b[0m\n\u001b[1;32m    257\u001b[0m     \u001b[0margs\u001b[0m \u001b[0;34m=\u001b[0m \u001b[0;34m[\u001b[0m\u001b[0mnp\u001b[0m\u001b[0;34m.\u001b[0m\u001b[0marray\u001b[0m\u001b[0;34m(\u001b[0m\u001b[0m_m\u001b[0m\u001b[0;34m,\u001b[0m \u001b[0mcopy\u001b[0m\u001b[0;34m=\u001b[0m\u001b[0;32mFalse\u001b[0m\u001b[0;34m,\u001b[0m \u001b[0msubok\u001b[0m\u001b[0;34m=\u001b[0m\u001b[0msubok\u001b[0m\u001b[0;34m)\u001b[0m \u001b[0;32mfor\u001b[0m \u001b[0m_m\u001b[0m \u001b[0;32min\u001b[0m \u001b[0margs\u001b[0m\u001b[0;34m]\u001b[0m\u001b[0;34m\u001b[0m\u001b[0;34m\u001b[0m\u001b[0m\n\u001b[1;32m    258\u001b[0m \u001b[0;34m\u001b[0m\u001b[0m\n\u001b[0;32m--> 259\u001b[0;31m     \u001b[0mshape\u001b[0m \u001b[0;34m=\u001b[0m \u001b[0m_broadcast_shape\u001b[0m\u001b[0;34m(\u001b[0m\u001b[0;34m*\u001b[0m\u001b[0margs\u001b[0m\u001b[0;34m)\u001b[0m\u001b[0;34m\u001b[0m\u001b[0;34m\u001b[0m\u001b[0m\n\u001b[0m\u001b[1;32m    260\u001b[0m \u001b[0;34m\u001b[0m\u001b[0m\n\u001b[1;32m    261\u001b[0m     \u001b[0;32mif\u001b[0m \u001b[0mall\u001b[0m\u001b[0;34m(\u001b[0m\u001b[0marray\u001b[0m\u001b[0;34m.\u001b[0m\u001b[0mshape\u001b[0m \u001b[0;34m==\u001b[0m \u001b[0mshape\u001b[0m \u001b[0;32mfor\u001b[0m \u001b[0marray\u001b[0m \u001b[0;32min\u001b[0m \u001b[0margs\u001b[0m\u001b[0;34m)\u001b[0m\u001b[0;34m:\u001b[0m\u001b[0;34m\u001b[0m\u001b[0;34m\u001b[0m\u001b[0m\n",
      "\u001b[0;32m~/anaconda3/lib/python3.7/site-packages/numpy/lib/stride_tricks.py\u001b[0m in \u001b[0;36m_broadcast_shape\u001b[0;34m(*args)\u001b[0m\n\u001b[1;32m    191\u001b[0m     \u001b[0;31m# use the old-iterator because np.nditer does not handle size 0 arrays\u001b[0m\u001b[0;34m\u001b[0m\u001b[0;34m\u001b[0m\u001b[0;34m\u001b[0m\u001b[0m\n\u001b[1;32m    192\u001b[0m     \u001b[0;31m# consistently\u001b[0m\u001b[0;34m\u001b[0m\u001b[0;34m\u001b[0m\u001b[0;34m\u001b[0m\u001b[0m\n\u001b[0;32m--> 193\u001b[0;31m     \u001b[0mb\u001b[0m \u001b[0;34m=\u001b[0m \u001b[0mnp\u001b[0m\u001b[0;34m.\u001b[0m\u001b[0mbroadcast\u001b[0m\u001b[0;34m(\u001b[0m\u001b[0;34m*\u001b[0m\u001b[0margs\u001b[0m\u001b[0;34m[\u001b[0m\u001b[0;34m:\u001b[0m\u001b[0;36m32\u001b[0m\u001b[0;34m]\u001b[0m\u001b[0;34m)\u001b[0m\u001b[0;34m\u001b[0m\u001b[0;34m\u001b[0m\u001b[0m\n\u001b[0m\u001b[1;32m    194\u001b[0m     \u001b[0;31m# unfortunately, it cannot handle 32 or more arguments directly\u001b[0m\u001b[0;34m\u001b[0m\u001b[0;34m\u001b[0m\u001b[0;34m\u001b[0m\u001b[0m\n\u001b[1;32m    195\u001b[0m     \u001b[0;32mfor\u001b[0m \u001b[0mpos\u001b[0m \u001b[0;32min\u001b[0m \u001b[0mrange\u001b[0m\u001b[0;34m(\u001b[0m\u001b[0;36m32\u001b[0m\u001b[0;34m,\u001b[0m \u001b[0mlen\u001b[0m\u001b[0;34m(\u001b[0m\u001b[0margs\u001b[0m\u001b[0;34m)\u001b[0m\u001b[0;34m,\u001b[0m \u001b[0;36m31\u001b[0m\u001b[0;34m)\u001b[0m\u001b[0;34m:\u001b[0m\u001b[0;34m\u001b[0m\u001b[0;34m\u001b[0m\u001b[0m\n",
      "\u001b[0;31mValueError\u001b[0m: shape mismatch: objects cannot be broadcast to a single shape"
     ]
    },
    {
     "data": {
      "image/png": "[encoded data removed]",
      "text/plain": [
       "<Figure size 432x288 with 1 Axes>"
      ]
     },
     "metadata": {
      "needs_background": "light"
     },
     "output_type": "display_data"
    }
   ],
   "source": [
    "plt.bar(x,high_value_round)"
   ]
  },
  {
   "cell_type": "code",
   "execution_count": null,
   "metadata": {},
   "outputs": [],
   "source": []
  }
 ],
 "metadata": {
  "kernelspec": {
   "display_name": "Python 3",
   "language": "python",
   "name": "python3"
  },
  "language_info": {
   "codemirror_mode": {
    "name": "ipython",
    "version": 3
   },
   "file_extension": ".py",
   "mimetype": "text/x-python",
   "name": "python",
   "nbconvert_exporter": "python",
   "pygments_lexer": "ipython3",
   "version": "3.7.3"
  }
 },
 "nbformat": 4,
 "nbformat_minor": 4
}
